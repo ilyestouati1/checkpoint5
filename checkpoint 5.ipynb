{
 "cells": [
  {
   "cell_type": "code",
   "execution_count": 11,
   "id": "242f648f",
   "metadata": {},
   "outputs": [
    {
     "data": {
      "text/plain": [
       "(3, 4, 5)"
      ]
     },
     "execution_count": 11,
     "metadata": {},
     "output_type": "execute_result"
    }
   ],
   "source": [
    "#checkpoint 5 \n",
    "class Point3D:\n",
    "  \n",
    "    def __init__(self,a,b,c):\n",
    "        self.x=a\n",
    "        self.y=b\n",
    "        self.z=c\n",
    "    def affiche(self):\n",
    "        return (self.x,self.y,self.z)\n",
    "p=Point3D(3,4,5) \n",
    "t=p.affiche()\n",
    "t"
   ]
  },
  {
   "cell_type": "code",
   "execution_count": 17,
   "id": "b602db90",
   "metadata": {},
   "outputs": [
    {
     "name": "stdout",
     "output_type": "stream",
     "text": [
      "14 12\n"
     ]
    }
   ],
   "source": [
    "#2\n",
    "class Rectangle:\n",
    "    def __init__(self,length,width):\n",
    "        self.x=length\n",
    "        self.y=width\n",
    "    def perimétre (self):\n",
    "        return ((self.x+self.y)*2)\n",
    "    def air (self):\n",
    "        return (self.x*self.y)\n",
    "my_rectangle=Rectangle(3,4)\n",
    "P=my_rectangle.perimétre()\n",
    "A=my_rectangle.air()\n",
    "print(P,A)"
   ]
  },
  {
   "cell_type": "code",
   "execution_count": null,
   "id": "9c1951a5",
   "metadata": {},
   "outputs": [],
   "source": [
    "#3\n",
    "r=int(input(\"rayon du cercle: \"))\n",
    "x=int(input(\"x du cercle: \"))\n",
    "y= int(input(\"y du cercle: \"))\n",
    "O=(x,y)\n",
    "x_A= int(input(\"x de A: \"))\n",
    "y_A= int(input(\"y de A: \"))\n",
    "A= (x_A,y_A)\n",
    "from math import pi\n",
    "from math import sqrt\n",
    "class Circle():\n",
    "    def __init__(self, O, r):\n",
    "        self.center= O\n",
    "        self.radius= r\n",
    "    def area(self):\n",
    "        return(pi*self.radius**2)\n",
    "    def perimeter(self):\n",
    "        return(2*pi*self.radius)\n",
    "    def isInside(self,A):\n",
    "        Q= sqrt((A[0]-self.center[0])**2+(A[1]-self.center[1])**2)\n",
    "        if Q==r:\n",
    "            return(\"A est sur le Cercle\")\n",
    "        elif Q<r:\n",
    "            return(\"A est dans le Cercle\")\n",
    "        else:\n",
    "            return(\"A est à l'extérieur du Cercle\")\n",
    "          \n",
    "mon_cercle = Circle(O, r)\n",
    "a=mon_cercle.area()\n",
    "pe=mon_cercle.perimeter()\n",
    "print(\"area is:\", a)\n",
    "print(\"perimeter is: \", pe)\n",
    "mon_cercle.isInside(A)"
   ]
  },
  {
   "cell_type": "code",
   "execution_count": 10,
   "id": "0fa18ceb",
   "metadata": {},
   "outputs": [
    {
     "name": "stdout",
     "output_type": "stream",
     "text": [
      "quel est votre solde? :100\n",
      "quel est le nombre des pertes?:50\n",
      "quel est le nombre des gains?:0\n",
      "votre solde est : <__main__.Bank object at 0x000001A3A0611F10>\n",
      "100\n",
      "50\n"
     ]
    }
   ],
   "source": [
    "#4\n",
    "class Bank:\n",
    "    def __init__(self, balance):\n",
    "        self.balance=balance\n",
    "    def deposit(self, gain):\n",
    "        self.balance = self.balance+gain\n",
    "        return self.balance\n",
    "    def withdraw (self,perte):\n",
    "        self.balance=self.balance-perte\n",
    "        return self.balance\n",
    "T=int(input(\"quel est votre solde? :\"))\n",
    "p=int(input(\"quel est le nombre des pertes?:\"))\n",
    "g=int(input(\"quel est le nombre des gains?:\"))\n",
    "my_bank=Bank(T)\n",
    "print(\"votre solde est :\",a)\n",
    "print(my_bank.deposit(g))\n",
    "print(my_bank.withdraw(p))\n",
    "\n",
    "\n",
    "\n",
    "\n",
    "\n",
    "    "
   ]
  },
  {
   "cell_type": "code",
   "execution_count": null,
   "id": "088d09f5",
   "metadata": {},
   "outputs": [],
   "source": []
  },
  {
   "cell_type": "code",
   "execution_count": null,
   "id": "ea06175e",
   "metadata": {},
   "outputs": [],
   "source": []
  }
 ],
 "metadata": {
  "kernelspec": {
   "display_name": "Python 3",
   "language": "python",
   "name": "python3"
  },
  "language_info": {
   "codemirror_mode": {
    "name": "ipython",
    "version": 3
   },
   "file_extension": ".py",
   "mimetype": "text/x-python",
   "name": "python",
   "nbconvert_exporter": "python",
   "pygments_lexer": "ipython3",
   "version": "3.8.8"
  }
 },
 "nbformat": 4,
 "nbformat_minor": 5
}
